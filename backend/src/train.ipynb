{
 "cells": [
  {
   "cell_type": "markdown",
   "metadata": {},
   "source": [
    "## Amharic Ngram Model Training"
   ]
  },
  {
   "cell_type": "code",
   "execution_count": 1,
   "metadata": {},
   "outputs": [],
   "source": [
    "from src.tokenizer import AmharicSegmenter\n",
    "from src.ngram import NgramModel\n",
    "from src.utils import read_file, read_lines\n",
    "import os\n",
    "from pathlib import Path\n",
    "\n"
   ]
  },
  {
   "cell_type": "code",
   "execution_count": 2,
   "metadata": {},
   "outputs": [
    {
     "name": "stdout",
     "output_type": "stream",
     "text": [
      "current directory:  c:\\Users\\Sami\\Downloads\\Amharic_spell_checker\\backend\\src\n",
      "Looking for corpus at: c:\\Users\\Sami\\Downloads\\Amharic_spell_checker\\backend\\data\\amharic_corpus.txt\n"
     ]
    }
   ],
   "source": [
    "current_dir = Path().absolute()\n",
    "print(\"current directory: \", current_dir)\n",
    "corpus_path = os.path.join(current_dir.parent, \"data\", \"amharic_corpus.txt\")\n",
    "print(f\"Looking for corpus at: {corpus_path}\")\n",
    "# corpus_path = 'data/amharic_corpus.txt'"
   ]
  },
  {
   "cell_type": "code",
   "execution_count": 3,
   "metadata": {},
   "outputs": [],
   "source": [
    "tokenizer = AmharicSegmenter()"
   ]
  },
  {
   "cell_type": "code",
   "execution_count": 4,
   "metadata": {},
   "outputs": [],
   "source": [
    "corpus = read_file(corpus_path)"
   ]
  },
  {
   "cell_type": "code",
   "execution_count": 5,
   "metadata": {},
   "outputs": [],
   "source": [
    "# Let us assess the number of tokens we have\n",
    "# in our corpus\n",
    "\n",
    "tokens = tokenizer.word_tokenize(corpus)"
   ]
  },
  {
   "cell_type": "code",
   "execution_count": 6,
   "metadata": {},
   "outputs": [
    {
     "data": {
      "text/plain": [
       "6308145"
      ]
     },
     "execution_count": 6,
     "metadata": {},
     "output_type": "execute_result"
    }
   ],
   "source": [
    "len(tokens)"
   ]
  },
  {
   "cell_type": "code",
   "execution_count": 7,
   "metadata": {},
   "outputs": [],
   "source": [
    "# We have 6 million two hundred ninety four thousand eight hundred and sixteen tokens\n",
    "# Let us create NGram\n",
    "\n",
    "bigram_model = NgramModel(corpus, 2)\n",
    "bigram_model.train()"
   ]
  },
  {
   "cell_type": "code",
   "execution_count": 8,
   "metadata": {},
   "outputs": [],
   "source": [
    "trigram_model = NgramModel(corpus, 3)\n",
    "trigram_model.train()\n"
   ]
  },
  {
   "cell_type": "code",
   "execution_count": 9,
   "metadata": {},
   "outputs": [
    {
     "name": "stdout",
     "output_type": "stream",
     "text": [
      "the path before creation is  c:\\Users\\Sami\\Downloads\\Amharic_spell_checker\\backend\\models\n",
      "the path to be opened is   c:\\Users\\Sami\\Downloads\\Amharic_spell_checker\\backend\\models\n"
     ]
    }
   ],
   "source": [
    "saving_dir = Path().absolute()\n",
    "bigram_model.save(os.path.join(saving_dir.parent, \"models/bigram_\"))"
   ]
  },
  {
   "cell_type": "code",
   "execution_count": 10,
   "metadata": {},
   "outputs": [
    {
     "name": "stdout",
     "output_type": "stream",
     "text": [
      "the path before creation is  c:\\Users\\Sami\\Downloads\\Amharic_spell_checker\\backend\\models\n",
      "the path to be opened is   c:\\Users\\Sami\\Downloads\\Amharic_spell_checker\\backend\\models\n"
     ]
    }
   ],
   "source": [
    "saving_dir = Path().absolute()\n",
    "trigram_model.save(os.path.join(saving_dir.parent, \"models/trigram_\"))\n"
   ]
  },
  {
   "cell_type": "code",
   "execution_count": null,
   "metadata": {},
   "outputs": [],
   "source": []
  }
 ],
 "metadata": {
  "kernelspec": {
   "display_name": "venv",
   "language": "python",
   "name": "python3"
  },
  "language_info": {
   "codemirror_mode": {
    "name": "ipython",
    "version": 3
   },
   "file_extension": ".py",
   "mimetype": "text/x-python",
   "name": "python",
   "nbconvert_exporter": "python",
   "pygments_lexer": "ipython3",
   "version": "3.11.0"
  }
 },
 "nbformat": 4,
 "nbformat_minor": 2
}
